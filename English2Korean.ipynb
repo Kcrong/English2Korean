{
 "cells": [
  {
   "cell_type": "markdown",
   "metadata": {},
   "source": [
    "# English 2 Korean"
   ]
  },
  {
   "cell_type": "markdown",
   "metadata": {},
   "source": [
    "## Prepare special letter"
   ]
  },
  {
   "cell_type": "code",
   "execution_count": null,
   "metadata": {},
   "outputs": [],
   "source": [
    "space_letter = ' '\n",
    "special_letters = [space_letter]"
   ]
  },
  {
   "cell_type": "markdown",
   "metadata": {},
   "source": [
    "## ~~Prepare Korean data~~\n",
    "모든 한국어 글자를 사용하기엔 너무 많음. 데이터에서 나오는 글자만 사용함.\n",
    "(하단 셀 참조)"
   ]
  },
  {
   "cell_type": "code",
   "execution_count": null,
   "metadata": {},
   "outputs": [],
   "source": [
    "# Prepare Korean letters\n",
    "first_id = ord('가')\n",
    "last_id = ord('힣')\n",
    "\n",
    "korean_letter_list = [chr(num) for num in range(first_id, last_id+1)]\n",
    "\n",
    "## Valid checking\n",
    "try:\n",
    "    assert len(korean_letter_list) == 11172\n",
    "except AssertionError:\n",
    "    print('Wrong!')\n",
    "    raise\n",
    "else:\n",
    "    print('Cool!')\n",
    "    \n",
    "# Extend special letters\n",
    "korean_letter_list.extend(special_letters)\n",
    "\n",
    "# Make a mapping with index\n",
    "idx2korean = dict(zip(range(len(korean_letter_list)), korean_letter_list))\n",
    "korean2idx = dict(zip(korean_letter_list, range(len(korean_letter_list))))"
   ]
  },
  {
   "cell_type": "markdown",
   "metadata": {},
   "source": [
    "## Prepare English data"
   ]
  },
  {
   "cell_type": "code",
   "execution_count": null,
   "metadata": {},
   "outputs": [],
   "source": [
    "# Prepare English letters\n",
    "first_big_id = ord('A')\n",
    "last_big_id = ord('Z')\n",
    "first_small_id = ord('a')\n",
    "last_small_id = ord('z')\n",
    "\n",
    "big = list(range(first_big_id, last_big_id+1))\n",
    "small = list(range(first_small_id, last_small_id+1))\n",
    "\n",
    "english_letter_list = [chr(num) for num in big+small]\n",
    "    \n",
    "# Extend special letters\n",
    "english_letter_list.extend(special_letters)\n",
    "    \n",
    "# Make a mapping with index\n",
    "idx2english = dict(enumerate(english_letter_list, 1))\n",
    "english2idx = {v: k for k, v in idx2english.items()}"
   ]
  },
  {
   "cell_type": "markdown",
   "metadata": {},
   "source": [
    "## Load dataset from csv"
   ]
  },
  {
   "cell_type": "code",
   "execution_count": null,
   "metadata": {},
   "outputs": [],
   "source": [
    "import numpy as np\n",
    "import pandas as pd\n",
    "\n",
    "df = pd.read_csv('kcrong.csv', encoding='utf8')\n",
    "del df['Unnamed: 0']"
   ]
  },
  {
   "cell_type": "code",
   "execution_count": null,
   "metadata": {
    "scrolled": true
   },
   "outputs": [],
   "source": [
    "# Load X\n",
    "roma = df['roma'].apply(lambda x: np.array([english2idx[letter] for letter in x]))\n",
    "roma_df = pd.DataFrame(roma)\n",
    "X = pd.DataFrame(roma_df['roma'].tolist()).values\n",
    "\n",
    "# Replace nan to 0\n",
    "# Get index of nan, and make them 0\n",
    "X[np.isnan(X)] = 0\n",
    "print(X)"
   ]
  },
  {
   "cell_type": "code",
   "execution_count": null,
   "metadata": {
    "scrolled": true
   },
   "outputs": [],
   "source": [
    "X.shape"
   ]
  },
  {
   "cell_type": "code",
   "execution_count": null,
   "metadata": {},
   "outputs": [],
   "source": [
    "# Build korean letter set\n",
    "\n",
    "# 한국어의 모든 글자를 사용하기엔 너무 많음. (가~힣 약 11175개)\n",
    "# 따라서 이미 등장한 단어만 사용\n",
    "\n",
    "# 데이터 셋에서 모든 한글 값 가져옴\n",
    "hang = df['hang'].values\n",
    "\n",
    "# 등장한 모든 글자의 리스트를 가져오고, set() 으로 중복 제거\n",
    "korean_letter_list = list(set([letter for sent in hang for letter in sent]))"
   ]
  },
  {
   "cell_type": "code",
   "execution_count": null,
   "metadata": {
    "scrolled": true
   },
   "outputs": [],
   "source": [
    "# Make a mapping with index\n",
    "idx2korean = dict(enumerate(korean_letter_list, 1))\n",
    "korean2idx = {v: k for k, v in idx2korean.items()}"
   ]
  },
  {
   "cell_type": "code",
   "execution_count": null,
   "metadata": {},
   "outputs": [],
   "source": [
    "hang = df['hang'].apply(lambda x: np.array([korean2idx[letter] for letter in x]))\n",
    "hang_df = pd.DataFrame(hang)\n",
    "y = pd.DataFrame(hang_df['hang'].tolist()).values"
   ]
  },
  {
   "cell_type": "code",
   "execution_count": null,
   "metadata": {},
   "outputs": [],
   "source": [
    "# Replace nan to 0\n",
    "# Get index of nan, and make them 0\n",
    "y[np.isnan(y)] = 0\n",
    "print(y)\n",
    "print(y.shape)"
   ]
  },
  {
   "cell_type": "code",
   "execution_count": null,
   "metadata": {},
   "outputs": [],
   "source": [
    "# one-hot encode y\n",
    "from keras.utils import np_utils\n",
    "\n",
    "y = np_utils.to_categorical(y, num_classes=len(korean_letter_list)+1).reshape(300, 12, len(korean_letter_list)+1)"
   ]
  },
  {
   "cell_type": "code",
   "execution_count": null,
   "metadata": {
    "scrolled": true
   },
   "outputs": [],
   "source": [
    "y.shape"
   ]
  },
  {
   "cell_type": "code",
   "execution_count": null,
   "metadata": {},
   "outputs": [],
   "source": [
    "from sklearn.model_selection import train_test_split\n",
    "\n",
    "X_train, X_test, y_train, y_test = train_test_split(X, y, test_size=0.3)\n",
    "X_train, X_val, y_train, y_val = train_test_split(X_train, y_train, test_size=0.1)"
   ]
  },
  {
   "cell_type": "markdown",
   "metadata": {},
   "source": [
    "## Hyper Parameters"
   ]
  },
  {
   "cell_type": "code",
   "execution_count": null,
   "metadata": {},
   "outputs": [],
   "source": [
    "from keras.layers import recurrent\n",
    "\n",
    "# Parameters for the model and dataset\n",
    "TRAINING_SIZE = 50000\n",
    "VOCAB_SIZE = 12\n",
    "INVERT = True\n",
    "HIDDEN_SIZE = 200\n",
    "BATCH_SIZE = 100\n",
    "LAYERS = 2\n",
    "MAX_EPOCHS = 1000\n",
    "EMBEDDING_OUTPUT_SIZE = 128\n",
    "MAX_SENT_LENGTH = X.shape[1] + 1\n",
    "\n",
    "# Try replacing with LSTM, GRU, or SimpleRNN\n",
    "RNN = recurrent.GRU\n",
    "stop_monitor = 'val_acc'  # variable for early stop: (default = val_loss)\n",
    "stop_delta = 0.0  # minimum delta before early stop (default = 0)\n",
    "stop_epochs = 20    # how many epochs to do after stop condition (default = 0)\n"
   ]
  },
  {
   "cell_type": "markdown",
   "metadata": {},
   "source": [
    "## Model visualize function"
   ]
  },
  {
   "cell_type": "code",
   "execution_count": 37,
   "metadata": {},
   "outputs": [],
   "source": [
    "from IPython.display import SVG, display\n",
    "from keras.utils.vis_utils import model_to_dot\n",
    "\n",
    "def viz_model(model):\n",
    "    display(SVG(model_to_dot(model, show_shapes=True).create(prog='dot', format='svg')))"
   ]
  },
  {
   "cell_type": "markdown",
   "metadata": {},
   "source": [
    "## Build Model"
   ]
  },
  {
   "cell_type": "code",
   "execution_count": 1,
   "metadata": {},
   "outputs": [
    {
     "name": "stderr",
     "output_type": "stream",
     "text": [
      "Using TensorFlow backend.\n"
     ]
    },
    {
     "name": "stdout",
     "output_type": "stream",
     "text": [
      "Done\n"
     ]
    }
   ],
   "source": [
    "from keras.models import Sequential\n",
    "from keras.layers import Dense, TimeDistributed, Activation, RepeatVector, Embedding, Dropout\n",
    "\n",
    "def build_model(embedding_input_dim,\n",
    "                embedding_output_dim,\n",
    "                embedding_input_length,\n",
    "                maximum_input_length,\n",
    "                hidden_size,\n",
    "                maximum_output_length,\n",
    "                encoder_layer_count,\n",
    "                dropout_rate,\n",
    "                output_classes_count,\n",
    "                rnn_layer,\n",
    "                summary_type=False):\n",
    "    \n",
    "    print('Build model...')\n",
    "    RNN = rnn_layer\n",
    "\n",
    "    model = Sequential()\n",
    "\n",
    "    model.add(Embedding(\n",
    "        input_dim=embedding_input_dim,\n",
    "        output_dim=embedding_output_dim,\n",
    "        input_length=embedding_input_length\n",
    "    ))\n",
    "    \n",
    "    model.add(RNN(hidden_size, return_sequences=True, input_shape=(maximum_input_length, 123)))\n",
    "    model.add(RNN(hidden_size))\n",
    "\n",
    "    model.add(RepeatVector(maximum_output_length)) # 글자수 맥시멈\n",
    "\n",
    "    for _ in range(encoder_layer_count):\n",
    "        model.add(RNN(hidden_size, return_sequences=True))\n",
    "        model.add(Dropout(dropout_rate))\n",
    "\n",
    "    # For each of step of the output sequence, decide which character should be chosen\n",
    "    model.add(TimeDistributed(Dense(output_classes_count)))\n",
    "    model.add(Activation('softmax'))\n",
    "\n",
    "    model.compile(loss='categorical_crossentropy', # default: categorical_crossentropy\n",
    "                  optimizer='adam', # default: adam, can try SGD, RMSprop\n",
    "                  metrics=['accuracy'])\n",
    "    \n",
    "    \n",
    "    \n",
    "    if summary_type is False:\n",
    "        pass\n",
    "    elif str(summary_type).lower() == 'svg':\n",
    "        viz_model(model)\n",
    "    else:\n",
    "        model.summary()\n",
    "        \n",
    "    return model\n",
    "\n",
    "print('Done')"
   ]
  },
  {
   "cell_type": "markdown",
   "metadata": {},
   "source": [
    "## ~~NO~~ Early Stop"
   ]
  },
  {
   "cell_type": "code",
   "execution_count": null,
   "metadata": {},
   "outputs": [],
   "source": [
    "# Early Stop\n",
    "from keras.callbacks import EarlyStopping\n",
    "\n",
    "early_stop = EarlyStopping(\n",
    "    monitor=stop_monitor,\n",
    "    min_delta=stop_delta,\n",
    "    patience=stop_epochs,\n",
    "    verbose=1,\n",
    "    mode='auto',\n",
    ")\n",
    "\n",
    "# callbacks_list = [early_stop]\n",
    "callbacks_list = []"
   ]
  },
  {
   "cell_type": "markdown",
   "metadata": {},
   "source": [
    "## Train model"
   ]
  },
  {
   "cell_type": "code",
   "execution_count": null,
   "metadata": {},
   "outputs": [],
   "source": [
    "## Create model object\n",
    "model = build_model(summary_type=True)"
   ]
  },
  {
   "cell_type": "code",
   "execution_count": null,
   "metadata": {},
   "outputs": [],
   "source": [
    "hist = model.fit(\n",
    "    X_train, y_train,\n",
    "    validation_data=(X_val, y_val),\n",
    "    batch_size=BATCH_SIZE,\n",
    "    epochs=MAX_EPOCHS,\n",
    "    callbacks=callbacks_list,\n",
    "    verbose=1\n",
    ")"
   ]
  },
  {
   "cell_type": "code",
   "execution_count": null,
   "metadata": {},
   "outputs": [],
   "source": [
    "# Visualize history\n",
    "import matplotlib.pyplot as plt\n",
    "\n",
    "fig, loss_ax = plt.subplots()\n",
    "\n",
    "acc_ax = loss_ax.twinx()\n",
    "\n",
    "loss_ax.plot(hist.history['loss'], 'y', label='train loss')\n",
    "loss_ax.plot(hist.history['val_loss'], 'g', label='val loss')\n",
    "acc_ax.plot(hist.history['acc'], 'b', label='train acc')\n",
    "acc_ax.plot(hist.history['val_acc'], 'r', label='val acc')\n",
    "\n",
    "loss_ax.set_xlabel('epoch')\n",
    "loss_ax.set_ylabel('loss')\n",
    "acc_ax.set_ylabel('accuracy')\n",
    "\n",
    "loss_ax.legend(loc='upper left')\n",
    "acc_ax.legend(loc='lower left')\n",
    "\n",
    "plt.show()"
   ]
  },
  {
   "cell_type": "code",
   "execution_count": null,
   "metadata": {},
   "outputs": [],
   "source": [
    "model.evaluate(X_test, y_test)"
   ]
  },
  {
   "cell_type": "markdown",
   "metadata": {},
   "source": [
    "OVERFITTING...."
   ]
  },
  {
   "cell_type": "markdown",
   "metadata": {},
   "source": [
    "### Let's insert Dropout "
   ]
  },
  {
   "cell_type": "code",
   "execution_count": null,
   "metadata": {},
   "outputs": [],
   "source": [
    "from IPython.display import SVG\n",
    "from keras.utils.vis_utils import model_to_dot\n",
    "\n",
    "SVG(model_to_dot(model, show_shapes=True).create(prog='dot', format='svg'))"
   ]
  },
  {
   "cell_type": "code",
   "execution_count": null,
   "metadata": {},
   "outputs": [],
   "source": [
    "hist = model.fit(\n",
    "    X_train, y_train,\n",
    "    validation_data=(X_val, y_val),\n",
    "    batch_size=BATCH_SIZE,\n",
    "    epochs=MAX_EPOCHS,\n",
    "    callbacks=callbacks_list,\n",
    "    verbose=1\n",
    ")"
   ]
  },
  {
   "cell_type": "code",
   "execution_count": null,
   "metadata": {
    "scrolled": true
   },
   "outputs": [],
   "source": [
    "# Visualize history\n",
    "import matplotlib.pyplot as plt\n",
    "\n",
    "fig, loss_ax = plt.subplots()\n",
    "\n",
    "acc_ax = loss_ax.twinx()\n",
    "\n",
    "loss_ax.plot(hist.history['loss'], 'y', label='train loss')\n",
    "loss_ax.plot(hist.history['val_loss'], 'g', label='val loss')\n",
    "acc_ax.plot(hist.history['acc'], 'b', label='train acc')\n",
    "acc_ax.plot(hist.history['val_acc'], 'r', label='val acc')\n",
    "\n",
    "loss_ax.set_xlabel('epoch')\n",
    "loss_ax.set_ylabel('loss')\n",
    "acc_ax.set_ylabel('accuracy')\n",
    "\n",
    "loss_ax.legend(loc='upper left')\n",
    "acc_ax.legend(loc='lower left')\n",
    "\n",
    "plt.show()"
   ]
  },
  {
   "cell_type": "code",
   "execution_count": null,
   "metadata": {},
   "outputs": [],
   "source": [
    "model.evaluate(X_test, y_test)"
   ]
  },
  {
   "cell_type": "code",
   "execution_count": null,
   "metadata": {},
   "outputs": [],
   "source": [
    "def number_to_english(data):\n",
    "    tmp_list = []\n",
    "    for letter in data:\n",
    "        try:\n",
    "            tmp_list.append(idx2english[int(letter)])\n",
    "        except KeyError:\n",
    "            break\n",
    "    return \"\".join(tmp_list)\n",
    "\n",
    "def english_to_number(data):\n",
    "    tmp_list = []\n",
    "    for letter in data:\n",
    "        try:\n",
    "            tmp_list.append(english2idx[letter])\n",
    "        except KeyError:\n",
    "            print(\"I didn't learn %s\" % letter)\n",
    "\n",
    "    return tmp_list\n",
    "            \n",
    "def number_to_korean(data):\n",
    "    tmp_list = []\n",
    "    for letter in data:\n",
    "        try:\n",
    "            tmp_list.append(idx2korean[int(letter)])\n",
    "        except KeyError:\n",
    "            break\n",
    "    return \"\".join(tmp_list)\n",
    "\n",
    "def argmax_data(data):\n",
    "    return [np.argmax(letter) for letter in data]"
   ]
  },
  {
   "cell_type": "markdown",
   "metadata": {},
   "source": [
    "## Check the result !"
   ]
  },
  {
   "cell_type": "code",
   "execution_count": null,
   "metadata": {
    "scrolled": true
   },
   "outputs": [],
   "source": [
    "check_length = 10\n",
    "\n",
    "input_x_values = X_train[[range(check_length)]]\n",
    "result = model.predict(input_x_values)\n",
    "\n",
    "for input_x, result_y in zip(input_x_values, result):\n",
    "    print(number_to_english(input_x))\n",
    "    print(number_to_korean(argmax_data(result_y)))"
   ]
  },
  {
   "cell_type": "code",
   "execution_count": null,
   "metadata": {
    "scrolled": true
   },
   "outputs": [],
   "source": [
    "query = \"air conditioner\"\n",
    "\n",
    "# convert to index\n",
    "idx_list = np.array(english_to_number(query), dtype='float')\n",
    "\n",
    "# Padding trick\n",
    "idx_list.resize(1, 24)\n",
    "\n",
    "# Get result\n",
    "result = model.predict(idx_list, verbose=1)\n",
    "\n",
    "# Print the query\n",
    "print(\"Query: \",query)\n",
    "\n",
    "# Print the result as Readable for person\n",
    "print(\"Answer: \", number_to_korean(argmax_data(result[0])))"
   ]
  },
  {
   "cell_type": "code",
   "execution_count": null,
   "metadata": {},
   "outputs": [],
   "source": [
    "query = \"air\"\n",
    "\n",
    "# convert to index\n",
    "idx_list = np.array(english_to_number(query), dtype='float')\n",
    "\n",
    "# Padding trick\n",
    "idx_list.resize(1, 24)\n",
    "\n",
    "# Get result\n",
    "result = model.predict(idx_list, verbose=1)\n",
    "\n",
    "# Print the query\n",
    "print(\"Query: \",query)\n",
    "\n",
    "# Print the result as Readable for person\n",
    "print(\"Answer: \", number_to_korean(argmax_data(result[0])))"
   ]
  },
  {
   "cell_type": "markdown",
   "metadata": {},
   "source": [
    "## Save the Model"
   ]
  },
  {
   "cell_type": "code",
   "execution_count": null,
   "metadata": {},
   "outputs": [],
   "source": [
    "model.save('english2korean.h5')"
   ]
  },
  {
   "cell_type": "markdown",
   "metadata": {},
   "source": [
    "## Load the Model"
   ]
  },
  {
   "cell_type": "code",
   "execution_count": null,
   "metadata": {},
   "outputs": [],
   "source": [
    "number_to_english(X_train[0])"
   ]
  },
  {
   "cell_type": "code",
   "execution_count": null,
   "metadata": {},
   "outputs": [],
   "source": [
    "from keras.utils import plot_model\n",
    "from keras.models import load_model\n",
    "\n",
    "loaded_model = load_model('english2korean.h5')\n",
    "\n",
    "# plot_model(model, to_file='model.png')"
   ]
  },
  {
   "cell_type": "code",
   "execution_count": null,
   "metadata": {},
   "outputs": [],
   "source": [
    "import numpy as np"
   ]
  },
  {
   "cell_type": "code",
   "execution_count": null,
   "metadata": {},
   "outputs": [],
   "source": [
    "query = \"Abel\"\n",
    "\n",
    "# convert to index\n",
    "idx_list = np.array(english_to_number(query), dtype='float')\n",
    "\n",
    "# Padding trick\n",
    "idx_list.resize(1, 24)\n",
    "\n",
    "# Get result\n",
    "result = loaded_model.predict(idx_list, verbose=1)\n",
    "\n",
    "# Print the query\n",
    "print(\"Query: \",query)\n",
    "\n",
    "# Print the result as Readable for person\n",
    "print(\"Answer: \", number_to_korean(argmax_data(result[0])))"
   ]
  },
  {
   "cell_type": "markdown",
   "metadata": {},
   "source": [
    "# Character-level Embedding\n",
    "\n",
    "글자 `가-힣` 단계에서 output을 뽑는 위 모델과는 다르게, 자음/모음을 출력값으로 가진 뒤에 조합하는 모델"
   ]
  },
  {
   "cell_type": "code",
   "execution_count": 5,
   "metadata": {},
   "outputs": [],
   "source": [
    "space = [' ']"
   ]
  },
  {
   "cell_type": "markdown",
   "metadata": {},
   "source": [
    "## Prepare English data"
   ]
  },
  {
   "cell_type": "code",
   "execution_count": 6,
   "metadata": {},
   "outputs": [],
   "source": [
    "# Prepare English letters\n",
    "first_big_id = ord('A')\n",
    "last_big_id = ord('Z')\n",
    "first_small_id = ord('a')\n",
    "last_small_id = ord('z')\n",
    "\n",
    "big = list(range(first_big_id, last_big_id+1))\n",
    "small = list(range(first_small_id, last_small_id+1))\n",
    "\n",
    "english_letter_list = [chr(num) for num in big+small] + space\n",
    "    \n",
    "# Make a mapping with index\n",
    "idx2english = dict(enumerate(english_letter_list, 1))\n",
    "english2idx = {v: k for k, v in idx2english.items()}"
   ]
  },
  {
   "cell_type": "markdown",
   "metadata": {},
   "source": [
    "## Prepare Korean data"
   ]
  },
  {
   "cell_type": "code",
   "execution_count": 7,
   "metadata": {},
   "outputs": [],
   "source": [
    "consonants = [chr(letter) for letter in range(ord('ㄱ'), ord('ㅎ')+1)]\n",
    "vowel = [chr(letter) for letter in range(ord('ㅏ'), ord('ㅣ')+1)]\n",
    "\n",
    "korean_letter_list = consonants + vowel + space\n",
    "\n",
    "# Make a mapping with index\n",
    "idx2korean = dict(enumerate(korean_letter_list, 1))\n",
    "korean2idx = {v: k for k, v in idx2korean.items()}"
   ]
  },
  {
   "cell_type": "code",
   "execution_count": 8,
   "metadata": {
    "scrolled": true
   },
   "outputs": [
    {
     "data": {
      "text/html": [
       "<div>\n",
       "<style>\n",
       "    .dataframe thead tr:only-child th {\n",
       "        text-align: right;\n",
       "    }\n",
       "\n",
       "    .dataframe thead th {\n",
       "        text-align: left;\n",
       "    }\n",
       "\n",
       "    .dataframe tbody tr th {\n",
       "        vertical-align: top;\n",
       "    }\n",
       "</style>\n",
       "<table border=\"1\" class=\"dataframe\">\n",
       "  <thead>\n",
       "    <tr style=\"text-align: right;\">\n",
       "      <th></th>\n",
       "      <th>roman</th>\n",
       "      <th>hangul</th>\n",
       "      <th>roma</th>\n",
       "      <th>hang</th>\n",
       "    </tr>\n",
       "  </thead>\n",
       "  <tbody>\n",
       "    <tr>\n",
       "      <th>0</th>\n",
       "      <td>Fiery Cross Reef</td>\n",
       "      <td>파이어리 크로스 리프</td>\n",
       "      <td>Fiery Cross Reef</td>\n",
       "      <td>파이어리 크로스 리프</td>\n",
       "    </tr>\n",
       "    <tr>\n",
       "      <th>1</th>\n",
       "      <td>Rosetta</td>\n",
       "      <td>로제타</td>\n",
       "      <td>Rosetta</td>\n",
       "      <td>로제타</td>\n",
       "    </tr>\n",
       "    <tr>\n",
       "      <th>2</th>\n",
       "      <td>Lynch Loretta Elizabeth</td>\n",
       "      <td>린치 로레타 엘리자베스</td>\n",
       "      <td>Lynch Loretta Elizabeth</td>\n",
       "      <td>린치 로레타 엘리자베스</td>\n",
       "    </tr>\n",
       "    <tr>\n",
       "      <th>3</th>\n",
       "      <td>Crabbe Tim</td>\n",
       "      <td>크래브 팀</td>\n",
       "      <td>Crabbe Tim</td>\n",
       "      <td>크래브 팀</td>\n",
       "    </tr>\n",
       "    <tr>\n",
       "      <th>4</th>\n",
       "      <td>Schumacher Nick</td>\n",
       "      <td>슈매커 닉</td>\n",
       "      <td>Schumacher Nick</td>\n",
       "      <td>슈매커 닉</td>\n",
       "    </tr>\n",
       "  </tbody>\n",
       "</table>\n",
       "</div>"
      ],
      "text/plain": [
       "                     roman        hangul                     roma  \\\n",
       "0         Fiery Cross Reef   파이어리 크로스 리프         Fiery Cross Reef   \n",
       "1                  Rosetta           로제타                  Rosetta   \n",
       "2  Lynch Loretta Elizabeth  린치 로레타 엘리자베스  Lynch Loretta Elizabeth   \n",
       "3               Crabbe Tim         크래브 팀               Crabbe Tim   \n",
       "4          Schumacher Nick         슈매커 닉          Schumacher Nick   \n",
       "\n",
       "           hang  \n",
       "0   파이어리 크로스 리프  \n",
       "1           로제타  \n",
       "2  린치 로레타 엘리자베스  \n",
       "3         크래브 팀  \n",
       "4         슈매커 닉  "
      ]
     },
     "execution_count": 8,
     "metadata": {},
     "output_type": "execute_result"
    }
   ],
   "source": [
    "import numpy as np\n",
    "import pandas as pd\n",
    "\n",
    "df = pd.read_csv('full_data.csv', encoding='utf8')\n",
    "df['roma'] = df['roman']\n",
    "df['hang'] = df['hangul']\n",
    "df.head()\n",
    "# del df['Unnamed: 0']"
   ]
  },
  {
   "cell_type": "markdown",
   "metadata": {},
   "source": [
    "### Load X"
   ]
  },
  {
   "cell_type": "code",
   "execution_count": 9,
   "metadata": {},
   "outputs": [
    {
     "name": "stdout",
     "output_type": "stream",
     "text": [
      "[[  6.  35.  31. ...,   0.   0.   0.]\n",
      " [ 18.  41.  45. ...,   0.   0.   0.]\n",
      " [ 12.  51.  40. ...,   0.   0.   0.]\n",
      " ..., \n",
      " [ 33.  27.  30. ...,   0.   0.   0.]\n",
      " [ 33.  27.  44. ...,   0.   0.   0.]\n",
      " [ 33.  27.  44. ...,   0.   0.   0.]]\n",
      "(11189, 28)\n"
     ]
    }
   ],
   "source": [
    "roma = df['roma'].apply(lambda x: np.array([english2idx[letter] for letter in x]))\n",
    "roma_df = pd.DataFrame(roma)\n",
    "X = pd.DataFrame(roma_df['roma'].tolist()).values\n",
    "\n",
    "# Replace nan to 0\n",
    "# Get index of nan, and make them 0\n",
    "X[np.isnan(X)] = 0\n",
    "print(X)\n",
    "print(X.shape)"
   ]
  },
  {
   "cell_type": "markdown",
   "metadata": {},
   "source": [
    "### Load y"
   ]
  },
  {
   "cell_type": "code",
   "execution_count": 10,
   "metadata": {},
   "outputs": [],
   "source": [
    "# from https://github.com/Kcrong/separate-korean/blob/master/separater.py\n",
    "class Separater:\n",
    "    # BASE_CODE, CHOSUNG, JUNGSUNG = 44032, 588, 28\n",
    "    _BASE_CODE = 44032\n",
    "    _CHOSUNG = 588\n",
    "    _JUNGSUNG = 28\n",
    "\n",
    "    _CHOSUNG_LIST = [u'ㄱ', u'ㄲ', u'ㄴ', u'ㄷ', u'ㄸ', u'ㄹ', u'ㅁ', u'ㅂ', u'ㅃ', u'ㅅ', u'ㅆ', u'ㅇ', u'ㅈ', u'ㅉ', u'ㅊ', u'ㅋ',\n",
    "                     u'ㅌ', u'ㅍ', u'ㅎ']\n",
    "    _JUNGSUNG_LIST = [u'ㅏ', u'ㅐ', u'ㅑ', u'ㅒ', u'ㅓ', u'ㅔ', u'ㅕ', u'ㅖ', u'ㅗ', u'ㅘ', u'ㅙ', u'ㅚ', u'ㅛ', u'ㅜ', u'ㅝ', u'ㅞ',\n",
    "                      u'ㅟ', u'ㅠ', u'ㅡ', u'ㅢ', u'ㅣ']\n",
    "    _JONGSUNG_LIST = [u' ', u'ㄱ', u'ㄲ', u'ㄳ', u'ㄴ', u'ㄵ', u'ㄶ', u'ㄷ', u'ㄹ', u'ㄺ', u'ㄻ', u'ㄼ', u'ㄽ', u'ㄾ', u'ㄿ', u'ㅀ',\n",
    "                      u'ㅁ', u'ㅂ', u'ㅄ', u'ㅅ', u'ㅆ', u'ㅇ', u'ㅈ', u'ㅊ', u'ㅋ', u'ㅌ', u'ㅍ', u'ㅎ']\n",
    "\n",
    "    ch = _BASE_CODE + (0 * _CHOSUNG + 2 * _JUNGSUNG)\n",
    "\n",
    "    def __init__(self, word):\n",
    "        self.word = word\n",
    "\n",
    "    @property\n",
    "    def sep_all(self):\n",
    "        try:\n",
    "            _all_ = list()\n",
    "\n",
    "            for ch in self.word:\n",
    "                for tmp in ch:\n",
    "                    chbase = ord(tmp) - Separater._BASE_CODE\n",
    "\n",
    "                    ch_1 = chbase // Separater._CHOSUNG\n",
    "                    _all_.append(Separater._CHOSUNG_LIST[ch_1])\n",
    "\n",
    "                    ch_2 = (chbase - (Separater._CHOSUNG * ch_1)) // Separater._JUNGSUNG\n",
    "                    _all_.append(Separater._JUNGSUNG_LIST[ch_2])\n",
    "\n",
    "                    ch_3 = (chbase - (Separater._CHOSUNG * ch_1) - (Separater._JUNGSUNG * ch_2))\n",
    "                    _all_.append(Separater._JONGSUNG_LIST[ch_3])\n",
    "\n",
    "            while True:\n",
    "                try:\n",
    "                    _all_.remove(' ')\n",
    "                except ValueError:\n",
    "                    break\n",
    "        except:\n",
    "            print(self.word)\n",
    "            raise\n",
    "                    \n",
    "        return _all_\n",
    "\n",
    "    @property\n",
    "    def chosung(self):\n",
    "        all_chosung = list()\n",
    "        for ch in self.word:\n",
    "            for tmp in ch:\n",
    "                all_chosung.append(Separater._CHOSUNG_LIST[((ord(tmp) - Separater._BASE_CODE) // Separater._CHOSUNG)])\n",
    "        return all_chosung\n",
    "\n",
    "    @property\n",
    "    def jungsung(self):\n",
    "        all_jungsung = list()\n",
    "\n",
    "        for ch in self.word:\n",
    "            for tmp in ch:\n",
    "                chbase = ord(tmp) - Separater._BASE_CODE\n",
    "                jungsung_idx = (chbase - (Separater._CHOSUNG * (chbase // Separater._CHOSUNG))) // Separater._JUNGSUNG\n",
    "                all_jungsung.append(Separater._JUNGSUNG_LIST[jungsung_idx])\n",
    "        return all_jungsung\n",
    "\n",
    "    @property\n",
    "    def jongsung(self):\n",
    "        all_jongsung = list()\n",
    "\n",
    "        for ch in self.word:\n",
    "            for tmp in ch:\n",
    "                chbase = ord(tmp) - Separater._BASE_CODE\n",
    "                c_idx = chbase // Separater._CHOSUNG\n",
    "\n",
    "                jongsung_idx = (chbase - (Separater._CHOSUNG * c_idx) - (\n",
    "                    Separater._JUNGSUNG * ((chbase - (Separater._CHOSUNG * c_idx)) // Separater._JUNGSUNG)))\n",
    "                all_jongsung.append(Separater._JONGSUNG_LIST[jongsung_idx])\n",
    "        return all_jongsung"
   ]
  },
  {
   "cell_type": "code",
   "execution_count": 11,
   "metadata": {},
   "outputs": [],
   "source": [
    "def sep_encode_all(sent):\n",
    "    return [korean2idx[let] for letter in sent if letter != ' ' for let in Separater(letter).sep_all]\n",
    "\n",
    "def sep_all(sent):\n",
    "    return [let for letter in sent if letter != ' ' for let in Separater(letter).sep_all]\n",
    "\n",
    "def encode_all(sep_sent):\n",
    "    return [korean2idx[let] for let in sep_sent]\n",
    "\n",
    "assert encode_all(sep_all('안녕 하세요')) == sep_encode_all('안녕 하세요')"
   ]
  },
  {
   "cell_type": "code",
   "execution_count": 12,
   "metadata": {},
   "outputs": [
    {
     "name": "stdout",
     "output_type": "stream",
     "text": [
      "[[ 29.  31.  23. ...,   0.   0.   0.]\n",
      " [  9.  39.  24. ...,   0.   0.   0.]\n",
      " [  9.  51.   4. ...,   0.   0.   0.]\n",
      " ..., \n",
      " [  1.  31.   7. ...,   0.   0.   0.]\n",
      " [  1.  31.   4. ...,   0.   0.   0.]\n",
      " [  1.  31.   4. ...,   0.   0.   0.]]\n",
      "(11189, 30)\n"
     ]
    }
   ],
   "source": [
    "# Load y\n",
    "hang = df['hang'].apply(lambda x: sep_encode_all(x))\n",
    "\n",
    "# Padding Trick. Add nan automatically\n",
    "hang_df = pd.DataFrame(hang)\n",
    "y = pd.DataFrame(hang_df['hang'].tolist()).values\n",
    "\n",
    "# nan to 0\n",
    "y[np.isnan(y)] = 0\n",
    "\n",
    "print(y)\n",
    "print(y.shape)"
   ]
  },
  {
   "cell_type": "code",
   "execution_count": 13,
   "metadata": {},
   "outputs": [],
   "source": [
    "# one-hot encoding\n",
    "from keras.utils import np_utils\n",
    "\n",
    "y = np_utils.to_categorical(y, num_classes=len(korean_letter_list)+1).reshape(y.shape[0], y.shape[1], len(korean_letter_list)+1)"
   ]
  },
  {
   "cell_type": "code",
   "execution_count": 14,
   "metadata": {},
   "outputs": [
    {
     "data": {
      "text/plain": [
       "(11189, 30, 53)"
      ]
     },
     "execution_count": 14,
     "metadata": {},
     "output_type": "execute_result"
    }
   ],
   "source": [
    "y.shape"
   ]
  },
  {
   "cell_type": "markdown",
   "metadata": {},
   "source": [
    "### Split train & test & validation set"
   ]
  },
  {
   "cell_type": "code",
   "execution_count": 15,
   "metadata": {},
   "outputs": [],
   "source": [
    "from sklearn.model_selection import train_test_split\n",
    "\n",
    "X_train, X_test, y_train, y_test = train_test_split(X, y, test_size=0.3)\n",
    "X_train, X_val, y_train, y_val = train_test_split(X_train, y_train, test_size=0.1)"
   ]
  },
  {
   "cell_type": "markdown",
   "metadata": {},
   "source": [
    "## Build & Train model"
   ]
  },
  {
   "cell_type": "code",
   "execution_count": 19,
   "metadata": {},
   "outputs": [
    {
     "name": "stdout",
     "output_type": "stream",
     "text": [
      "Done\n"
     ]
    }
   ],
   "source": [
    "from IPython.display import SVG, display\n",
    "from keras.utils.vis_utils import model_to_dot\n",
    "\n",
    "def viz_model(model):\n",
    "    display(SVG(model_to_dot(model, show_shapes=True).create(prog='dot', format='svg')))\n",
    "\n",
    "from keras.models import Sequential\n",
    "from keras.layers import Dense, TimeDistributed, Activation, RepeatVector, Embedding, Dropout\n",
    "\n",
    "def build_model(embedding_input_dim,\n",
    "                embedding_output_dim,\n",
    "                embedding_input_length,\n",
    "                maximum_input_length,\n",
    "                hidden_size,\n",
    "                maximum_output_length,\n",
    "                encoder_layer_count,\n",
    "                dropout_rate,\n",
    "                output_classes_count,\n",
    "                rnn_layer,\n",
    "                summary_type=False):\n",
    "    \n",
    "    print('Build model...')\n",
    "    RNN = rnn_layer\n",
    "\n",
    "    model = Sequential()\n",
    "\n",
    "    model.add(Embedding(\n",
    "        input_dim=embedding_input_dim,\n",
    "        output_dim=embedding_output_dim,\n",
    "        input_length=embedding_input_length\n",
    "    ))\n",
    "    \n",
    "    model.add(RNN(hidden_size, return_sequences=True, input_shape=(maximum_input_length, 123)))\n",
    "    model.add(RNN(hidden_size))\n",
    "\n",
    "    model.add(RepeatVector(maximum_output_length)) # 글자수 맥시멈\n",
    "\n",
    "    for _ in range(encoder_layer_count):\n",
    "        model.add(RNN(hidden_size, return_sequences=True))\n",
    "        model.add(Dropout(dropout_rate))\n",
    "\n",
    "    # For each of step of the output sequence, decide which character should be chosen\n",
    "    model.add(TimeDistributed(Dense(output_classes_count)))\n",
    "    model.add(Activation('softmax'))\n",
    "\n",
    "    model.compile(loss='categorical_crossentropy', # default: categorical_crossentropy\n",
    "                  optimizer='adam', # default: adam, can try SGD, RMSprop\n",
    "                  metrics=['accuracy'])\n",
    "    \n",
    "    \n",
    "    \n",
    "    if summary_type is False:\n",
    "        pass\n",
    "    elif str(summary_type).lower() == 'svg':\n",
    "        viz_model(model)\n",
    "    else:\n",
    "        model.summary()\n",
    "        \n",
    "    return model\n",
    "\n",
    "print('Done')"
   ]
  },
  {
   "cell_type": "code",
   "execution_count": 21,
   "metadata": {},
   "outputs": [
    {
     "name": "stdout",
     "output_type": "stream",
     "text": [
      "Build model...\n",
      "_________________________________________________________________\n",
      "Layer (type)                 Output Shape              Param #   \n",
      "=================================================================\n",
      "embedding_4 (Embedding)      (None, 28, 200)           10800     \n",
      "_________________________________________________________________\n",
      "gru_13 (GRU)                 (None, 28, 200)           240600    \n",
      "_________________________________________________________________\n",
      "gru_14 (GRU)                 (None, 200)               240600    \n",
      "_________________________________________________________________\n",
      "repeat_vector_4 (RepeatVecto (None, 30, 200)           0         \n",
      "_________________________________________________________________\n",
      "gru_15 (GRU)                 (None, 30, 200)           240600    \n",
      "_________________________________________________________________\n",
      "dropout_7 (Dropout)          (None, 30, 200)           0         \n",
      "_________________________________________________________________\n",
      "gru_16 (GRU)                 (None, 30, 200)           240600    \n",
      "_________________________________________________________________\n",
      "dropout_8 (Dropout)          (None, 30, 200)           0         \n",
      "_________________________________________________________________\n",
      "time_distributed_4 (TimeDist (None, 30, 53)            10653     \n",
      "_________________________________________________________________\n",
      "activation_4 (Activation)    (None, 30, 53)            0         \n",
      "=================================================================\n",
      "Total params: 983,853\n",
      "Trainable params: 983,853\n",
      "Non-trainable params: 0\n",
      "_________________________________________________________________\n"
     ]
    }
   ],
   "source": [
    "from keras.layers import recurrent\n",
    "\n",
    "model = build_model(\n",
    "    embedding_input_dim=len(english_letter_list)+1,  # Add 1 because of padding\n",
    "    embedding_output_dim=200,\n",
    "    embedding_input_length=X.shape[1],\n",
    "    maximum_input_length=X.shape[1],\n",
    "    hidden_size = 200,\n",
    "    maximum_output_length=y.shape[1],  # Add 1 because of last chr. 마지막 패딩 출력을 위해,\n",
    "    encoder_layer_count=2,  # Make 2 layers for encoding layer\n",
    "    dropout_rate=0.2, # Make no-dropout\n",
    "    output_classes_count=len(korean_letter_list)+1,  # Add 1 because of padding\n",
    "    rnn_layer=recurrent.GRU,\n",
    "    summary_type=True\n",
    ")"
   ]
  },
  {
   "cell_type": "code",
   "execution_count": 25,
   "metadata": {},
   "outputs": [
    {
     "name": "stdout",
     "output_type": "stream",
     "text": [
      "Train on 7048 samples, validate on 784 samples\n",
      "Epoch 1/100\n",
      "7048/7048 [==============================] - 8s - loss: 1.3135 - acc: 0.7031 - val_loss: 1.0997 - val_acc: 0.7193\n",
      "Epoch 2/100\n",
      "7048/7048 [==============================] - 7s - loss: 1.0515 - acc: 0.7196 - val_loss: 0.9905 - val_acc: 0.7239\n",
      "Epoch 3/100\n",
      "7048/7048 [==============================] - 7s - loss: 0.9907 - acc: 0.7260 - val_loss: 0.9744 - val_acc: 0.7291\n",
      "Epoch 4/100\n",
      "7048/7048 [==============================] - 7s - loss: 0.9309 - acc: 0.7352 - val_loss: 0.9301 - val_acc: 0.7321\n",
      "Epoch 5/100\n",
      "7048/7048 [==============================] - 7s - loss: 0.9099 - acc: 0.7360 - val_loss: 0.9001 - val_acc: 0.7363\n",
      "Epoch 6/100\n",
      "7048/7048 [==============================] - 7s - loss: 0.8994 - acc: 0.7380 - val_loss: 0.9040 - val_acc: 0.7369\n",
      "Epoch 7/100\n",
      "7048/7048 [==============================] - 7s - loss: 0.8948 - acc: 0.7384 - val_loss: 0.8963 - val_acc: 0.7372\n",
      "Epoch 8/100\n",
      "7048/7048 [==============================] - 7s - loss: 0.8856 - acc: 0.7397 - val_loss: 0.8816 - val_acc: 0.7389\n",
      "Epoch 9/100\n",
      "7048/7048 [==============================] - 7s - loss: 0.8814 - acc: 0.7404 - val_loss: 0.8859 - val_acc: 0.7397\n",
      "Epoch 10/100\n",
      "7048/7048 [==============================] - 7s - loss: 0.8784 - acc: 0.7411 - val_loss: 0.8715 - val_acc: 0.7414\n",
      "Epoch 11/100\n",
      "7048/7048 [==============================] - 7s - loss: 0.8690 - acc: 0.7425 - val_loss: 0.8685 - val_acc: 0.7407\n",
      "Epoch 12/100\n",
      "7048/7048 [==============================] - 7s - loss: 0.8655 - acc: 0.7426 - val_loss: 0.8924 - val_acc: 0.7406\n",
      "Epoch 13/100\n",
      "7048/7048 [==============================] - 7s - loss: 0.8556 - acc: 0.7440 - val_loss: 0.8641 - val_acc: 0.7432\n",
      "Epoch 14/100\n",
      "7048/7048 [==============================] - 7s - loss: 0.8449 - acc: 0.7458 - val_loss: 0.8458 - val_acc: 0.7460\n",
      "Epoch 15/100\n",
      "7048/7048 [==============================] - 7s - loss: 0.8333 - acc: 0.7477 - val_loss: 0.8263 - val_acc: 0.7496\n",
      "Epoch 16/100\n",
      "7048/7048 [==============================] - 7s - loss: 0.8086 - acc: 0.7518 - val_loss: 0.7932 - val_acc: 0.7558\n",
      "Epoch 17/100\n",
      "7048/7048 [==============================] - 7s - loss: 0.7808 - acc: 0.7567 - val_loss: 0.8149 - val_acc: 0.7457\n",
      "Epoch 18/100\n",
      "7048/7048 [==============================] - 7s - loss: 0.7666 - acc: 0.7593 - val_loss: 0.7673 - val_acc: 0.7601\n",
      "Epoch 19/100\n",
      "7048/7048 [==============================] - 7s - loss: 0.7552 - acc: 0.7617 - val_loss: 0.7626 - val_acc: 0.7606\n",
      "Epoch 20/100\n",
      "7048/7048 [==============================] - 7s - loss: 0.7277 - acc: 0.7680 - val_loss: 0.7417 - val_acc: 0.7694\n",
      "Epoch 21/100\n",
      "7048/7048 [==============================] - 7s - loss: 0.7140 - acc: 0.7729 - val_loss: 0.7343 - val_acc: 0.7689\n",
      "Epoch 22/100\n",
      "7048/7048 [==============================] - 7s - loss: 0.6930 - acc: 0.7797 - val_loss: 0.6915 - val_acc: 0.7839\n",
      "Epoch 23/100\n",
      "7048/7048 [==============================] - 7s - loss: 0.6740 - acc: 0.7860 - val_loss: 0.6848 - val_acc: 0.7863\n",
      "Epoch 24/100\n",
      "7048/7048 [==============================] - 7s - loss: 0.6538 - acc: 0.7910 - val_loss: 0.6818 - val_acc: 0.7869\n",
      "Epoch 25/100\n",
      "7048/7048 [==============================] - 7s - loss: 0.6417 - acc: 0.7955 - val_loss: 0.7144 - val_acc: 0.7825\n",
      "Epoch 26/100\n",
      "7048/7048 [==============================] - 7s - loss: 0.6237 - acc: 0.8013 - val_loss: 0.6559 - val_acc: 0.7977\n",
      "Epoch 27/100\n",
      "7048/7048 [==============================] - 7s - loss: 0.5987 - acc: 0.8084 - val_loss: 0.6343 - val_acc: 0.8014\n",
      "Epoch 28/100\n",
      "7048/7048 [==============================] - 7s - loss: 0.5778 - acc: 0.8134 - val_loss: 0.6295 - val_acc: 0.8026\n",
      "Epoch 29/100\n",
      "7048/7048 [==============================] - 7s - loss: 0.5590 - acc: 0.8192 - val_loss: 0.6153 - val_acc: 0.8120\n",
      "Epoch 30/100\n",
      "7048/7048 [==============================] - 7s - loss: 0.5350 - acc: 0.8267 - val_loss: 0.5717 - val_acc: 0.8214\n",
      "Epoch 31/100\n",
      "7048/7048 [==============================] - 7s - loss: 0.5138 - acc: 0.8334 - val_loss: 0.5589 - val_acc: 0.8278\n",
      "Epoch 32/100\n",
      "7048/7048 [==============================] - 7s - loss: 0.4951 - acc: 0.8392 - val_loss: 0.5488 - val_acc: 0.8283\n",
      "Epoch 33/100\n",
      "7048/7048 [==============================] - 7s - loss: 0.4765 - acc: 0.8443 - val_loss: 0.5425 - val_acc: 0.8358\n",
      "Epoch 34/100\n",
      "7048/7048 [==============================] - 7s - loss: 0.4599 - acc: 0.8497 - val_loss: 0.5286 - val_acc: 0.8383\n",
      "Epoch 35/100\n",
      "7048/7048 [==============================] - 7s - loss: 0.4471 - acc: 0.8540 - val_loss: 0.5232 - val_acc: 0.8373\n",
      "Epoch 36/100\n",
      "7048/7048 [==============================] - 7s - loss: 0.4293 - acc: 0.8591 - val_loss: 0.5072 - val_acc: 0.8484\n",
      "Epoch 37/100\n",
      "7048/7048 [==============================] - 7s - loss: 0.4117 - acc: 0.8645 - val_loss: 0.4890 - val_acc: 0.8506\n",
      "Epoch 38/100\n",
      "7048/7048 [==============================] - 7s - loss: 0.3922 - acc: 0.8711 - val_loss: 0.4760 - val_acc: 0.8554\n",
      "Epoch 39/100\n",
      "7048/7048 [==============================] - 7s - loss: 0.3684 - acc: 0.8789 - val_loss: 0.4724 - val_acc: 0.8599\n",
      "Epoch 40/100\n",
      "7048/7048 [==============================] - 7s - loss: 0.3571 - acc: 0.8820 - val_loss: 0.4785 - val_acc: 0.8540\n",
      "Epoch 41/100\n",
      "7048/7048 [==============================] - 7s - loss: 0.3468 - acc: 0.8865 - val_loss: 0.5138 - val_acc: 0.8450\n",
      "Epoch 42/100\n",
      "7048/7048 [==============================] - 7s - loss: 0.3665 - acc: 0.8808 - val_loss: 0.4515 - val_acc: 0.8677\n",
      "Epoch 43/100\n",
      "7048/7048 [==============================] - 7s - loss: 0.3234 - acc: 0.8939 - val_loss: 0.4452 - val_acc: 0.8742\n",
      "Epoch 44/100\n",
      "7048/7048 [==============================] - 7s - loss: 0.3080 - acc: 0.8987 - val_loss: 0.4348 - val_acc: 0.8763\n",
      "Epoch 45/100\n",
      "7048/7048 [==============================] - 7s - loss: 0.3034 - acc: 0.9013 - val_loss: 0.4502 - val_acc: 0.8744\n",
      "Epoch 46/100\n",
      "7048/7048 [==============================] - 7s - loss: 0.3155 - acc: 0.8978 - val_loss: 0.4370 - val_acc: 0.8779\n",
      "Epoch 47/100\n",
      "7048/7048 [==============================] - 7s - loss: 0.2802 - acc: 0.9083 - val_loss: 0.4562 - val_acc: 0.8804\n",
      "Epoch 48/100\n",
      "7048/7048 [==============================] - 7s - loss: 0.2652 - acc: 0.9134 - val_loss: 0.4411 - val_acc: 0.8808\n",
      "Epoch 49/100\n",
      "7048/7048 [==============================] - 7s - loss: 0.2630 - acc: 0.9141 - val_loss: 0.4323 - val_acc: 0.8853\n",
      "Epoch 50/100\n",
      "7048/7048 [==============================] - 7s - loss: 0.2510 - acc: 0.9181 - val_loss: 0.4213 - val_acc: 0.8862\n",
      "Epoch 51/100\n",
      "7048/7048 [==============================] - 7s - loss: 0.2435 - acc: 0.9203 - val_loss: 0.4144 - val_acc: 0.8902\n",
      "Epoch 52/100\n",
      "7048/7048 [==============================] - 7s - loss: 0.2446 - acc: 0.9207 - val_loss: 0.4099 - val_acc: 0.8878\n",
      "Epoch 53/100\n",
      "7048/7048 [==============================] - 7s - loss: 0.2252 - acc: 0.9264 - val_loss: 0.4190 - val_acc: 0.8933\n",
      "Epoch 54/100\n",
      "7048/7048 [==============================] - 7s - loss: 0.2125 - acc: 0.9309 - val_loss: 0.4395 - val_acc: 0.8877\n",
      "Epoch 55/100\n",
      "7048/7048 [==============================] - 7s - loss: 0.2254 - acc: 0.9263 - val_loss: 0.4486 - val_acc: 0.8902\n",
      "Epoch 56/100\n",
      "7048/7048 [==============================] - 7s - loss: 0.2093 - acc: 0.9314 - val_loss: 0.4142 - val_acc: 0.8976\n",
      "Epoch 57/100\n",
      "7048/7048 [==============================] - 7s - loss: 0.2011 - acc: 0.9339 - val_loss: 0.4190 - val_acc: 0.8966\n",
      "Epoch 58/100\n",
      "7048/7048 [==============================] - 7s - loss: 0.1919 - acc: 0.9374 - val_loss: 0.4181 - val_acc: 0.8951\n",
      "Epoch 59/100\n",
      "7048/7048 [==============================] - 7s - loss: 0.1920 - acc: 0.9376 - val_loss: 0.4355 - val_acc: 0.8960\n",
      "Epoch 60/100\n",
      "7048/7048 [==============================] - 7s - loss: 0.1828 - acc: 0.9402 - val_loss: 0.4337 - val_acc: 0.8979\n",
      "Epoch 61/100\n",
      "7048/7048 [==============================] - 7s - loss: 0.1733 - acc: 0.9432 - val_loss: 0.4386 - val_acc: 0.8980\n",
      "Epoch 62/100\n",
      "7048/7048 [==============================] - 7s - loss: 0.1879 - acc: 0.9389 - val_loss: 0.4356 - val_acc: 0.8986\n",
      "Epoch 63/100\n",
      "7048/7048 [==============================] - 7s - loss: 0.1786 - acc: 0.9421 - val_loss: 0.4368 - val_acc: 0.8954\n",
      "Epoch 64/100\n",
      "7048/7048 [==============================] - 7s - loss: 0.1676 - acc: 0.9460 - val_loss: 0.4359 - val_acc: 0.8961\n",
      "Epoch 65/100\n",
      "7048/7048 [==============================] - 7s - loss: 0.1767 - acc: 0.9429 - val_loss: 0.4176 - val_acc: 0.9024\n",
      "Epoch 66/100\n",
      "7048/7048 [==============================] - 7s - loss: 0.1558 - acc: 0.9495 - val_loss: 0.4365 - val_acc: 0.8979\n",
      "Epoch 67/100\n",
      "7048/7048 [==============================] - 7s - loss: 0.1624 - acc: 0.9475 - val_loss: 0.4367 - val_acc: 0.8981\n",
      "Epoch 68/100\n",
      "7048/7048 [==============================] - 7s - loss: 0.1565 - acc: 0.9493 - val_loss: 0.4102 - val_acc: 0.9045\n",
      "Epoch 69/100\n",
      "7048/7048 [==============================] - 7s - loss: 0.1359 - acc: 0.9554 - val_loss: 0.4230 - val_acc: 0.9054\n",
      "Epoch 70/100\n",
      "7048/7048 [==============================] - 7s - loss: 0.1288 - acc: 0.9577 - val_loss: 0.4617 - val_acc: 0.9013\n",
      "Epoch 71/100\n",
      "7048/7048 [==============================] - 7s - loss: 0.1364 - acc: 0.9555 - val_loss: 0.4549 - val_acc: 0.8975\n",
      "Epoch 72/100\n",
      "7048/7048 [==============================] - 7s - loss: 0.1471 - acc: 0.9527 - val_loss: 0.4191 - val_acc: 0.9032\n",
      "Epoch 73/100\n",
      "7048/7048 [==============================] - 7s - loss: 0.1404 - acc: 0.9545 - val_loss: 0.4387 - val_acc: 0.9011\n",
      "Epoch 74/100\n",
      "7048/7048 [==============================] - 7s - loss: 0.1355 - acc: 0.9558 - val_loss: 0.4179 - val_acc: 0.9082\n",
      "Epoch 75/100\n",
      "7048/7048 [==============================] - 7s - loss: 0.1239 - acc: 0.9598 - val_loss: 0.4403 - val_acc: 0.9020\n",
      "Epoch 76/100\n",
      "7048/7048 [==============================] - 7s - loss: 0.1141 - acc: 0.9629 - val_loss: 0.4498 - val_acc: 0.9057\n",
      "Epoch 77/100\n",
      "7048/7048 [==============================] - 7s - loss: 0.1034 - acc: 0.9663 - val_loss: 0.4470 - val_acc: 0.9051\n",
      "Epoch 78/100\n",
      "7048/7048 [==============================] - 7s - loss: 0.0950 - acc: 0.9692 - val_loss: 0.4661 - val_acc: 0.9079\n",
      "Epoch 79/100\n",
      "7048/7048 [==============================] - 7s - loss: 0.0911 - acc: 0.9700 - val_loss: 0.4636 - val_acc: 0.9072\n",
      "Epoch 80/100\n",
      "7048/7048 [==============================] - 7s - loss: 0.1156 - acc: 0.9625 - val_loss: 0.4743 - val_acc: 0.9017\n",
      "Epoch 81/100\n",
      "7048/7048 [==============================] - 7s - loss: 0.1236 - acc: 0.9600 - val_loss: 0.4458 - val_acc: 0.9053\n",
      "Epoch 82/100\n",
      "7048/7048 [==============================] - 7s - loss: 0.1178 - acc: 0.9616 - val_loss: 0.4694 - val_acc: 0.9019\n",
      "Epoch 83/100\n",
      "7048/7048 [==============================] - 7s - loss: 0.1050 - acc: 0.9657 - val_loss: 0.4440 - val_acc: 0.9101\n",
      "Epoch 84/100\n",
      "7048/7048 [==============================] - 7s - loss: 0.1093 - acc: 0.9646 - val_loss: 0.4773 - val_acc: 0.9071\n",
      "Epoch 85/100\n",
      "7048/7048 [==============================] - 7s - loss: 0.1070 - acc: 0.9655 - val_loss: 0.4616 - val_acc: 0.9035\n",
      "Epoch 86/100\n",
      "7048/7048 [==============================] - 7s - loss: 0.1051 - acc: 0.9655 - val_loss: 0.4724 - val_acc: 0.9069\n",
      "Epoch 87/100\n",
      "7048/7048 [==============================] - 7s - loss: 0.0956 - acc: 0.9691 - val_loss: 0.4920 - val_acc: 0.9051\n",
      "Epoch 88/100\n",
      "7048/7048 [==============================] - 7s - loss: 0.1122 - acc: 0.9645 - val_loss: 0.4615 - val_acc: 0.9090\n",
      "Epoch 89/100\n",
      "7048/7048 [==============================] - 7s - loss: 0.0868 - acc: 0.9721 - val_loss: 0.4536 - val_acc: 0.9095\n",
      "Epoch 90/100\n",
      "7048/7048 [==============================] - 7s - loss: 0.0835 - acc: 0.9729 - val_loss: 0.4559 - val_acc: 0.9102\n",
      "Epoch 91/100\n",
      "7048/7048 [==============================] - 7s - loss: 0.0910 - acc: 0.9709 - val_loss: 0.4714 - val_acc: 0.9088\n",
      "Epoch 92/100\n",
      "7048/7048 [==============================] - 7s - loss: 0.1148 - acc: 0.9637 - val_loss: 0.5031 - val_acc: 0.8997\n",
      "Epoch 93/100\n",
      "7048/7048 [==============================] - 7s - loss: 0.0966 - acc: 0.9691 - val_loss: 0.4721 - val_acc: 0.9057\n",
      "Epoch 94/100\n",
      "7048/7048 [==============================] - 7s - loss: 0.0898 - acc: 0.9710 - val_loss: 0.4558 - val_acc: 0.9085\n",
      "Epoch 95/100\n",
      "7048/7048 [==============================] - 7s - loss: 0.0732 - acc: 0.9764 - val_loss: 0.4704 - val_acc: 0.9105\n",
      "Epoch 96/100\n",
      "7048/7048 [==============================] - 7s - loss: 0.0682 - acc: 0.9781 - val_loss: 0.4851 - val_acc: 0.9111\n",
      "Epoch 97/100\n",
      "7048/7048 [==============================] - 7s - loss: 0.0665 - acc: 0.9786 - val_loss: 0.4708 - val_acc: 0.9098\n",
      "Epoch 98/100\n",
      "7048/7048 [==============================] - 7s - loss: 0.0782 - acc: 0.9751 - val_loss: 0.4789 - val_acc: 0.9115\n",
      "Epoch 99/100\n",
      "7048/7048 [==============================] - 7s - loss: 0.0721 - acc: 0.9770 - val_loss: 0.4962 - val_acc: 0.9073\n",
      "Epoch 100/100\n",
      "7048/7048 [==============================] - 7s - loss: 0.0877 - acc: 0.9724 - val_loss: 0.5604 - val_acc: 0.8997\n"
     ]
    }
   ],
   "source": [
    "## Params\n",
    "\n",
    "BATCH_SIZE=64\n",
    "MAX_EPOCHS=100\n",
    "\n",
    "hist = model.fit(\n",
    "    X_train, y_train,\n",
    "    validation_data=(X_val, y_val),\n",
    "    batch_size=BATCH_SIZE,\n",
    "    epochs=MAX_EPOCHS,\n",
    "    verbose=1\n",
    ")"
   ]
  },
  {
   "cell_type": "code",
   "execution_count": 29,
   "metadata": {},
   "outputs": [
    {
     "data": {
      "text/plain": [
       "[0.092786252633938054,\n",
       " 0.084843806592614368,\n",
       " 0.10074032412653748,\n",
       " 0.096561266618879107,\n",
       " 0.072834398291971233,\n",
       " 0.072016498135248463,\n",
       " 0.05865065379662357,\n",
       " 0.062743712846659097,\n",
       " 0.058412685411031888,\n",
       " 0.061961973126170043,\n",
       " 0.085761299020654089,\n",
       " 0.066430493952467543,\n",
       " 0.07656145227330903,\n",
       " 0.078425144043060765,\n",
       " 0.082060973237138596,\n",
       " 0.062968125168305994,\n",
       " 0.048720408121079514,\n",
       " 0.041397358321507594,\n",
       " 0.05001379251818381,\n",
       " 0.073632024858616266,\n",
       " 0.14807636073444813,\n",
       " 0.11778501607266241,\n",
       " 0.07641093127607082,\n",
       " 0.062228863739602007,\n",
       " 0.055939549282108612,\n",
       " 0.041551248246019495,\n",
       " 0.044343871701927377,\n",
       " 0.070916062056020357,\n",
       " 0.056179544678069945,\n",
       " 0.049725167127696125]"
      ]
     },
     "execution_count": 29,
     "metadata": {},
     "output_type": "execute_result"
    }
   ],
   "source": [
    "hist2.history['loss']"
   ]
  },
  {
   "cell_type": "code",
   "execution_count": 21,
   "metadata": {},
   "outputs": [
    {
     "name": "stdout",
     "output_type": "stream",
     "text": [
      "3357/3357 [==============================] - 1s     \n"
     ]
    },
    {
     "data": {
      "text/plain": [
       "[0.54901867985973973, 0.91450703211543738]"
      ]
     },
     "execution_count": 21,
     "metadata": {},
     "output_type": "execute_result"
    }
   ],
   "source": [
    "model.evaluate(X_test, y_test)"
   ]
  },
  {
   "cell_type": "markdown",
   "metadata": {},
   "source": [
    "## Viz history (Within Dropout)"
   ]
  },
  {
   "cell_type": "code",
   "execution_count": 30,
   "metadata": {},
   "outputs": [
    {
     "data": {
      "image/png": "[encoded data removed]",
      "text/plain": [
       "<matplotlib.figure.Figure at 0x7fdf7be68470>"
      ]
     },
     "metadata": {},
     "output_type": "display_data"
    }
   ],
   "source": [
    "# Visualize history\n",
    "import matplotlib.pyplot as plt\n",
    "\n",
    "fig, loss_ax = plt.subplots()\n",
    "\n",
    "acc_ax = loss_ax.twinx()\n",
    "\n",
    "loss_ax.plot(hist.history['loss'], 'y', label='train loss')\n",
    "loss_ax.plot(hist.history['val_loss'], 'g', label='val loss')\n",
    "acc_ax.plot(hist.history['acc'], 'b', label='train acc')\n",
    "acc_ax.plot(hist.history['val_acc'], 'r', label='val acc')\n",
    "\n",
    "loss_ax.set_xlabel('epoch')\n",
    "loss_ax.set_ylabel('loss')\n",
    "acc_ax.set_ylabel('accuracy')\n",
    "\n",
    "loss_ax.legend(loc='upper left')\n",
    "acc_ax.legend(loc='lower left')\n",
    "\n",
    "plt.show()"
   ]
  },
  {
   "cell_type": "markdown",
   "metadata": {},
   "source": [
    "## Viz history (Without Dropout)"
   ]
  },
  {
   "cell_type": "code",
   "execution_count": 128,
   "metadata": {},
   "outputs": [
    {
     "data": {
      "image/png": "[encoded data removed]",
      "text/plain": [
       "<matplotlib.figure.Figure at 0x7ff0833a3940>"
      ]
     },
     "metadata": {},
     "output_type": "display_data"
    }
   ],
   "source": [
    "# Visualize history\n",
    "import matplotlib.pyplot as plt\n",
    "\n",
    "fig, loss_ax = plt.subplots()\n",
    "\n",
    "acc_ax = loss_ax.twinx()\n",
    "\n",
    "loss_ax.plot(hist.history['loss'], 'y', label='train loss')\n",
    "loss_ax.plot(hist.history['val_loss'], 'g', label='val loss')\n",
    "acc_ax.plot(hist.history['acc'], 'b', label='train acc')\n",
    "acc_ax.plot(hist.history['val_acc'], 'r', label='val acc')\n",
    "\n",
    "loss_ax.set_xlabel('epoch')\n",
    "loss_ax.set_ylabel('loss')\n",
    "acc_ax.set_ylabel('accuracy')\n",
    "\n",
    "loss_ax.legend(loc='upper left')\n",
    "acc_ax.legend(loc='lower left')\n",
    "\n",
    "plt.show()"
   ]
  },
  {
   "cell_type": "markdown",
   "metadata": {},
   "source": [
    "## Viz history (Within Dropout, Large Dataset)"
   ]
  },
  {
   "cell_type": "code",
   "execution_count": 31,
   "metadata": {},
   "outputs": [
    {
     "data": {
      "image/png": "[encoded data removed]",
      "text/plain": [
       "<matplotlib.figure.Figure at 0x7fdf7bdbe438>"
      ]
     },
     "metadata": {},
     "output_type": "display_data"
    }
   ],
   "source": [
    "# Visualize history\n",
    "import matplotlib.pyplot as plt\n",
    "\n",
    "fig, loss_ax = plt.subplots()\n",
    "\n",
    "acc_ax = loss_ax.twinx()\n",
    "\n",
    "loss_ax.plot(hist.history['loss'] + hist2.history['loss'], 'y', label='train loss')\n",
    "loss_ax.plot(hist.history['val_loss'] + hist2.history['val_loss'], 'g', label='val loss')\n",
    "acc_ax.plot(hist.history['acc'] + hist2.history['acc'], 'b', label='train acc')\n",
    "acc_ax.plot(hist.history['val_acc'] + hist2.history['val_acc'], 'r', label='val acc')\n",
    "\n",
    "loss_ax.set_xlabel('epoch')\n",
    "loss_ax.set_ylabel('loss')\n",
    "acc_ax.set_ylabel('accuracy')\n",
    "\n",
    "loss_ax.legend(loc='upper left')\n",
    "acc_ax.legend(loc='lower left')\n",
    "\n",
    "plt.show()"
   ]
  },
  {
   "cell_type": "markdown",
   "metadata": {},
   "source": [
    "## Change model \n",
    "Tips from paper (https://arxiv.org/abs/1409.0473)\n",
    "\n",
    "1. non-bidirectional LSTM in encoder.\n",
    "2. reverse the input (np.flip)\n",
    "3. pad from the start. \n",
    "\n",
    "Before:  \n",
    "X --> y  \n",
    "[h, e, l, l, o, PAD, PAD] --> [안, 녕, 하, 세, 요]  \n",
    "\n",
    "After:  \n",
    "X --> y  \n",
    "[PAD, PAD, o, l, l, e, h] >>> [안, 녕, 하, 세, 요]  "
   ]
  },
  {
   "cell_type": "markdown",
   "metadata": {},
   "source": [
    "## Ready dataset"
   ]
  },
  {
   "cell_type": "code",
   "execution_count": 42,
   "metadata": {},
   "outputs": [
    {
     "data": {
      "text/plain": [
       "array([  6.,  35.,  31.,  44.,  51.,  53.,   3.,  44.,  41.,  45.,  45.,\n",
       "        53.,  18.,  31.,  31.,  32.,   0.,   0.,   0.,   0.,   0.,   0.,\n",
       "         0.,   0.,   0.,   0.,   0.,   0.])"
      ]
     },
     "execution_count": 42,
     "metadata": {},
     "output_type": "execute_result"
    }
   ],
   "source": [
    "# Reverse Input\n",
    "new_X = np.flip(X, axis=1)"
   ]
  },
  {
   "cell_type": "markdown",
   "metadata": {},
   "source": [
    "## Build model"
   ]
  },
  {
   "cell_type": "code",
   "execution_count": 38,
   "metadata": {},
   "outputs": [
    {
     "name": "stdout",
     "output_type": "stream",
     "text": [
      "Done\n"
     ]
    }
   ],
   "source": [
    "from keras.models import Sequential\n",
    "from keras.layers import Dense, TimeDistributed, Activation, RepeatVector, Embedding, Dropout\n",
    "\n",
    "def build_model(embedding_input_dim,\n",
    "                embedding_output_dim,\n",
    "                embedding_input_length,\n",
    "                maximum_input_length,\n",
    "                hidden_size,\n",
    "                maximum_output_length,\n",
    "                encoder_layer_count,\n",
    "                dropout_rate,\n",
    "                output_classes_count,\n",
    "                input_rnn_layer,\n",
    "                output_rnn_layer,\n",
    "                summary_type=False):\n",
    "    \n",
    "    print('Build model...')\n",
    "    ENCODER_RNN = input_rnn_layer\n",
    "    DECODER_RNN = output_rnn_layer\n",
    "\n",
    "    model = Sequential()\n",
    "\n",
    "    model.add(Embedding(\n",
    "        input_dim=embedding_input_dim,\n",
    "        output_dim=embedding_output_dim,\n",
    "        input_length=embedding_input_length\n",
    "    ))\n",
    "    \n",
    "    model.add(ENCODER_RNN(hidden_size, return_sequences=True, input_shape=(maximum_input_length, 123)))\n",
    "    model.add(ENCODER_RNN(hidden_size))\n",
    "\n",
    "    model.add(RepeatVector(maximum_output_length)) # 글자수 맥시멈\n",
    "\n",
    "    for _ in range(encoder_layer_count):\n",
    "        model.add(DECODER_RNN(hidden_size, return_sequences=True))\n",
    "        model.add(Dropout(dropout_rate))\n",
    "\n",
    "    # For each of step of the output sequence, decide which character should be chosen\n",
    "    model.add(TimeDistributed(Dense(output_classes_count)))\n",
    "    model.add(Activation('softmax'))\n",
    "\n",
    "    model.compile(loss='categorical_crossentropy', # default: categorical_crossentropy\n",
    "                  optimizer='adam', # default: adam, can try SGD, RMSprop\n",
    "                  metrics=['accuracy'])\n",
    "    \n",
    "    \n",
    "    \n",
    "    if summary_type is False:\n",
    "        pass\n",
    "    elif str(summary_type).lower() == 'svg':\n",
    "        viz_model(model)\n",
    "    else:\n",
    "        model.summary()\n",
    "        \n",
    "    return model\n",
    "\n",
    "print('Done')"
   ]
  },
  {
   "cell_type": "code",
   "execution_count": 2,
   "metadata": {},
   "outputs": [
    {
     "ename": "NameError",
     "evalue": "name 'build_model' is not defined",
     "output_type": "error",
     "traceback": [
      "\u001b[0;31m---------------------------------------------------------------------------\u001b[0m",
      "\u001b[0;31mNameError\u001b[0m                                 Traceback (most recent call last)",
      "\u001b[0;32m<ipython-input-2-44ef79394276>\u001b[0m in \u001b[0;36m<module>\u001b[0;34m()\u001b[0m\n\u001b[1;32m      1\u001b[0m \u001b[0;32mfrom\u001b[0m \u001b[0mkeras\u001b[0m\u001b[0;34m.\u001b[0m\u001b[0mlayers\u001b[0m \u001b[0;32mimport\u001b[0m \u001b[0mrecurrent\u001b[0m\u001b[0;34m\u001b[0m\u001b[0m\n\u001b[1;32m      2\u001b[0m \u001b[0;34m\u001b[0m\u001b[0m\n\u001b[0;32m----> 3\u001b[0;31m model = build_model(\n\u001b[0m\u001b[1;32m      4\u001b[0m     \u001b[0membedding_input_dim\u001b[0m\u001b[0;34m=\u001b[0m\u001b[0mlen\u001b[0m\u001b[0;34m(\u001b[0m\u001b[0menglish_letter_list\u001b[0m\u001b[0;34m)\u001b[0m\u001b[0;34m+\u001b[0m\u001b[0;36m1\u001b[0m\u001b[0;34m,\u001b[0m  \u001b[0;31m# Add 1 because of padding\u001b[0m\u001b[0;34m\u001b[0m\u001b[0m\n\u001b[1;32m      5\u001b[0m     \u001b[0membedding_output_dim\u001b[0m\u001b[0;34m=\u001b[0m\u001b[0;36m200\u001b[0m\u001b[0;34m,\u001b[0m\u001b[0;34m\u001b[0m\u001b[0m\n",
      "\u001b[0;31mNameError\u001b[0m: name 'build_model' is not defined"
     ]
    }
   ],
   "source": [
    "from keras.layers import recurrent\n",
    "\n",
    "model = build_model(\n",
    "    embedding_input_dim=len(english_letter_list)+1,  # Add 1 because of padding\n",
    "    embedding_output_dim=200,\n",
    "    embedding_input_length=X.shape[1],\n",
    "    maximum_input_length=X.shape[1],\n",
    "    hidden_size = 200,\n",
    "    maximum_output_length=y.shape[1],  # Add 1 because of last chr. 마지막 패딩 출력을 위해,\n",
    "    encoder_layer_count=2,  # Make 2 layers for encoding layer\n",
    "    dropout_rate=0.2, # Make no-dropout\n",
    "    output_classes_count=len(korean_letter_list)+1,  # Add 1 because of padding\n",
    "    input_rnn_layer=recurrent.LSTM,\n",
    "    output_rnn_layer=recurrent.GRU,\n",
    "    summary_type='svg'\n",
    ")"
   ]
  },
  {
   "cell_type": "code",
   "execution_count": 51,
   "metadata": {
    "scrolled": true
   },
   "outputs": [
    {
     "name": "stdout",
     "output_type": "stream",
     "text": [
      "Train on 7048 samples, validate on 784 samples\n",
      "Epoch 1/100\n",
      "7048/7048 [==============================] - 9s - loss: 1.2900 - acc: 0.7046 - val_loss: 1.2348 - val_acc: 0.7106\n",
      "Epoch 2/100\n",
      "7048/7048 [==============================] - 8s - loss: 1.0133 - acc: 0.7227 - val_loss: 1.0297 - val_acc: 0.7189\n",
      "Epoch 3/100\n",
      "7048/7048 [==============================] - 8s - loss: 0.9858 - acc: 0.7260 - val_loss: 0.9723 - val_acc: 0.7259\n",
      "Epoch 4/100\n",
      "7048/7048 [==============================] - 8s - loss: 0.9382 - acc: 0.7341 - val_loss: 0.9080 - val_acc: 0.7350\n",
      "Epoch 5/100\n",
      "7048/7048 [==============================] - 8s - loss: 0.9057 - acc: 0.7365 - val_loss: 0.9147 - val_acc: 0.7348\n",
      "Epoch 6/100\n",
      "7048/7048 [==============================] - 8s - loss: 0.9051 - acc: 0.7371 - val_loss: 0.9007 - val_acc: 0.7369\n",
      "Epoch 7/100\n",
      "7048/7048 [==============================] - 8s - loss: 0.9032 - acc: 0.7372 - val_loss: 0.9343 - val_acc: 0.7364\n",
      "Epoch 8/100\n",
      "7048/7048 [==============================] - 8s - loss: 0.8944 - acc: 0.7393 - val_loss: 0.8879 - val_acc: 0.7408\n",
      "Epoch 9/100\n",
      "7048/7048 [==============================] - 8s - loss: 0.8801 - acc: 0.7420 - val_loss: 0.8861 - val_acc: 0.7381\n",
      "Epoch 10/100\n",
      "7048/7048 [==============================] - 8s - loss: 0.8731 - acc: 0.7420 - val_loss: 0.8704 - val_acc: 0.7415\n",
      "Epoch 11/100\n",
      "7048/7048 [==============================] - 8s - loss: 0.8589 - acc: 0.7440 - val_loss: 0.8615 - val_acc: 0.7430\n",
      "Epoch 12/100\n",
      "7048/7048 [==============================] - 8s - loss: 0.8562 - acc: 0.7438 - val_loss: 0.8706 - val_acc: 0.7418\n",
      "Epoch 13/100\n",
      "7048/7048 [==============================] - 8s - loss: 0.8500 - acc: 0.7450 - val_loss: 0.8472 - val_acc: 0.7446\n",
      "Epoch 14/100\n",
      "7048/7048 [==============================] - 8s - loss: 0.8379 - acc: 0.7459 - val_loss: 0.8372 - val_acc: 0.7431\n",
      "Epoch 15/100\n",
      "7048/7048 [==============================] - 8s - loss: 0.8236 - acc: 0.7482 - val_loss: 0.8199 - val_acc: 0.7467\n",
      "Epoch 16/100\n",
      "7048/7048 [==============================] - 8s - loss: 0.8107 - acc: 0.7521 - val_loss: 0.8288 - val_acc: 0.7483\n",
      "Epoch 17/100\n",
      "7048/7048 [==============================] - 8s - loss: 0.7904 - acc: 0.7563 - val_loss: 0.7874 - val_acc: 0.7559\n",
      "Epoch 18/100\n",
      "7048/7048 [==============================] - 8s - loss: 0.7820 - acc: 0.7579 - val_loss: 0.7836 - val_acc: 0.7561\n",
      "Epoch 19/100\n",
      "7048/7048 [==============================] - 8s - loss: 0.7732 - acc: 0.7599 - val_loss: 0.7776 - val_acc: 0.7582\n",
      "Epoch 20/100\n",
      "7048/7048 [==============================] - 8s - loss: 0.7549 - acc: 0.7644 - val_loss: 0.7673 - val_acc: 0.7653\n",
      "Epoch 21/100\n",
      "7048/7048 [==============================] - 8s - loss: 0.7453 - acc: 0.7675 - val_loss: 0.7458 - val_acc: 0.7675\n",
      "Epoch 22/100\n",
      "7048/7048 [==============================] - 8s - loss: 0.7290 - acc: 0.7713 - val_loss: 0.7455 - val_acc: 0.7674\n",
      "Epoch 23/100\n",
      "7048/7048 [==============================] - 8s - loss: 0.7133 - acc: 0.7759 - val_loss: 0.7360 - val_acc: 0.7713\n",
      "Epoch 24/100\n",
      "7048/7048 [==============================] - 8s - loss: 0.7016 - acc: 0.7787 - val_loss: 0.7091 - val_acc: 0.7795\n",
      "Epoch 25/100\n",
      "7048/7048 [==============================] - 8s - loss: 0.6859 - acc: 0.7833 - val_loss: 0.7018 - val_acc: 0.7816\n",
      "Epoch 26/100\n",
      "7048/7048 [==============================] - 8s - loss: 0.6699 - acc: 0.7876 - val_loss: 0.6846 - val_acc: 0.7872\n",
      "Epoch 27/100\n",
      "7048/7048 [==============================] - 8s - loss: 0.6504 - acc: 0.7939 - val_loss: 0.6749 - val_acc: 0.7919\n",
      "Epoch 28/100\n",
      "7048/7048 [==============================] - 8s - loss: 0.6321 - acc: 0.7989 - val_loss: 0.6557 - val_acc: 0.7914\n",
      "Epoch 29/100\n",
      "7048/7048 [==============================] - 8s - loss: 0.6158 - acc: 0.8029 - val_loss: 0.6264 - val_acc: 0.8036\n",
      "Epoch 30/100\n",
      "7048/7048 [==============================] - 8s - loss: 0.5937 - acc: 0.8084 - val_loss: 0.6253 - val_acc: 0.8067\n",
      "Epoch 31/100\n",
      "7048/7048 [==============================] - 8s - loss: 0.5723 - acc: 0.8142 - val_loss: 0.5944 - val_acc: 0.8128\n",
      "Epoch 32/100\n",
      "7048/7048 [==============================] - 8s - loss: 0.5535 - acc: 0.8191 - val_loss: 0.5890 - val_acc: 0.8159\n",
      "Epoch 33/100\n",
      "7048/7048 [==============================] - 8s - loss: 0.5366 - acc: 0.8240 - val_loss: 0.5806 - val_acc: 0.8224\n",
      "Epoch 34/100\n",
      "7048/7048 [==============================] - 8s - loss: 0.5113 - acc: 0.8318 - val_loss: 0.5638 - val_acc: 0.8268\n",
      "Epoch 35/100\n",
      "7048/7048 [==============================] - 8s - loss: 0.4991 - acc: 0.8352 - val_loss: 0.5761 - val_acc: 0.8185\n",
      "Epoch 36/100\n",
      "7048/7048 [==============================] - 8s - loss: 0.4803 - acc: 0.8421 - val_loss: 0.5252 - val_acc: 0.8350\n",
      "Epoch 37/100\n",
      "7048/7048 [==============================] - 8s - loss: 0.4609 - acc: 0.8477 - val_loss: 0.5282 - val_acc: 0.8394\n",
      "Epoch 38/100\n",
      "7048/7048 [==============================] - 8s - loss: 0.4489 - acc: 0.8516 - val_loss: 0.5223 - val_acc: 0.8369\n",
      "Epoch 39/100\n",
      "7048/7048 [==============================] - 8s - loss: 0.4366 - acc: 0.8549 - val_loss: 0.5046 - val_acc: 0.8478\n",
      "Epoch 40/100\n",
      "7048/7048 [==============================] - 8s - loss: 0.4108 - acc: 0.8640 - val_loss: 0.4976 - val_acc: 0.8490\n",
      "Epoch 41/100\n",
      "7048/7048 [==============================] - 8s - loss: 0.3985 - acc: 0.8682 - val_loss: 0.4929 - val_acc: 0.8537\n",
      "Epoch 42/100\n",
      "7048/7048 [==============================] - 8s - loss: 0.3779 - acc: 0.8743 - val_loss: 0.4726 - val_acc: 0.8594\n",
      "Epoch 43/100\n",
      "7048/7048 [==============================] - 8s - loss: 0.3648 - acc: 0.8782 - val_loss: 0.4791 - val_acc: 0.8614\n",
      "Epoch 44/100\n",
      "7048/7048 [==============================] - 8s - loss: 0.3586 - acc: 0.8811 - val_loss: 0.4853 - val_acc: 0.8608\n",
      "Epoch 45/100\n",
      "7048/7048 [==============================] - 8s - loss: 0.3514 - acc: 0.8839 - val_loss: 0.4865 - val_acc: 0.8567\n",
      "Epoch 46/100\n",
      "7048/7048 [==============================] - 8s - loss: 0.3360 - acc: 0.8884 - val_loss: 0.4953 - val_acc: 0.8562\n",
      "Epoch 47/100\n",
      "7048/7048 [==============================] - 8s - loss: 0.3220 - acc: 0.8938 - val_loss: 0.4666 - val_acc: 0.8687\n",
      "Epoch 48/100\n",
      "7048/7048 [==============================] - 8s - loss: 0.3002 - acc: 0.8998 - val_loss: 0.4704 - val_acc: 0.8686\n",
      "Epoch 49/100\n",
      "7048/7048 [==============================] - 8s - loss: 0.2918 - acc: 0.9028 - val_loss: 0.4761 - val_acc: 0.8723\n",
      "Epoch 50/100\n",
      "7048/7048 [==============================] - 8s - loss: 0.2887 - acc: 0.9039 - val_loss: 0.4850 - val_acc: 0.8714\n",
      "Epoch 51/100\n",
      "7048/7048 [==============================] - 8s - loss: 0.2805 - acc: 0.9073 - val_loss: 0.4632 - val_acc: 0.8737\n",
      "Epoch 52/100\n",
      "7048/7048 [==============================] - 8s - loss: 0.2638 - acc: 0.9126 - val_loss: 0.4745 - val_acc: 0.8778\n",
      "Epoch 53/100\n",
      "7048/7048 [==============================] - 8s - loss: 0.2555 - acc: 0.9151 - val_loss: 0.4607 - val_acc: 0.8776\n",
      "Epoch 54/100\n",
      "7048/7048 [==============================] - 8s - loss: 0.2390 - acc: 0.9205 - val_loss: 0.4679 - val_acc: 0.8807\n",
      "Epoch 55/100\n",
      "7048/7048 [==============================] - 8s - loss: 0.2287 - acc: 0.9240 - val_loss: 0.4595 - val_acc: 0.8825\n",
      "Epoch 56/100\n",
      "7048/7048 [==============================] - 8s - loss: 0.2261 - acc: 0.9248 - val_loss: 0.4558 - val_acc: 0.8825\n",
      "Epoch 57/100\n",
      "7048/7048 [==============================] - 8s - loss: 0.2168 - acc: 0.9276 - val_loss: 0.4549 - val_acc: 0.8848\n",
      "Epoch 58/100\n",
      "7048/7048 [==============================] - 8s - loss: 0.2188 - acc: 0.9280 - val_loss: 0.4642 - val_acc: 0.8822\n",
      "Epoch 59/100\n",
      "7048/7048 [==============================] - 8s - loss: 0.2064 - acc: 0.9306 - val_loss: 0.4823 - val_acc: 0.8843\n",
      "Epoch 60/100\n",
      "7048/7048 [==============================] - 8s - loss: 0.2024 - acc: 0.9328 - val_loss: 0.4881 - val_acc: 0.8833\n",
      "Epoch 61/100\n",
      "7048/7048 [==============================] - 8s - loss: 0.1951 - acc: 0.9351 - val_loss: 0.4971 - val_acc: 0.8853\n",
      "Epoch 62/100\n",
      "7048/7048 [==============================] - 8s - loss: 0.1839 - acc: 0.9385 - val_loss: 0.4718 - val_acc: 0.8882\n",
      "Epoch 63/100\n",
      "7048/7048 [==============================] - 8s - loss: 0.1821 - acc: 0.9395 - val_loss: 0.4771 - val_acc: 0.8887\n",
      "Epoch 64/100\n",
      "7048/7048 [==============================] - 8s - loss: 0.1808 - acc: 0.9401 - val_loss: 0.4770 - val_acc: 0.8868\n",
      "Epoch 65/100\n",
      "7048/7048 [==============================] - 8s - loss: 0.1731 - acc: 0.9426 - val_loss: 0.4806 - val_acc: 0.8895\n",
      "Epoch 66/100\n",
      "7048/7048 [==============================] - 8s - loss: 0.1658 - acc: 0.9450 - val_loss: 0.4732 - val_acc: 0.8910\n",
      "Epoch 67/100\n",
      "7048/7048 [==============================] - 8s - loss: 0.1641 - acc: 0.9456 - val_loss: 0.4803 - val_acc: 0.8903\n",
      "Epoch 68/100\n",
      "7048/7048 [==============================] - 8s - loss: 0.1588 - acc: 0.9474 - val_loss: 0.4798 - val_acc: 0.8920\n",
      "Epoch 69/100\n",
      "7048/7048 [==============================] - 8s - loss: 0.1665 - acc: 0.9454 - val_loss: 0.4807 - val_acc: 0.8869\n",
      "Epoch 70/100\n",
      "7048/7048 [==============================] - 8s - loss: 0.1566 - acc: 0.9480 - val_loss: 0.4894 - val_acc: 0.8914\n",
      "Epoch 71/100\n",
      "7048/7048 [==============================] - 8s - loss: 0.1312 - acc: 0.9566 - val_loss: 0.4977 - val_acc: 0.8923\n",
      "Epoch 72/100\n",
      "7048/7048 [==============================] - 8s - loss: 0.1293 - acc: 0.9572 - val_loss: 0.5094 - val_acc: 0.8904\n",
      "Epoch 73/100\n",
      "7048/7048 [==============================] - 8s - loss: 0.1438 - acc: 0.9529 - val_loss: 0.4899 - val_acc: 0.8912\n",
      "Epoch 74/100\n",
      "7048/7048 [==============================] - 8s - loss: 0.1381 - acc: 0.9542 - val_loss: 0.5080 - val_acc: 0.8933\n",
      "Epoch 75/100\n",
      "7048/7048 [==============================] - 8s - loss: 0.1822 - acc: 0.9425 - val_loss: 0.5245 - val_acc: 0.8863\n",
      "Epoch 76/100\n",
      "7048/7048 [==============================] - 8s - loss: 0.1370 - acc: 0.9553 - val_loss: 0.4855 - val_acc: 0.8929\n",
      "Epoch 77/100\n",
      "7048/7048 [==============================] - 8s - loss: 0.1119 - acc: 0.9626 - val_loss: 0.5018 - val_acc: 0.8936\n",
      "Epoch 78/100\n",
      "7048/7048 [==============================] - 8s - loss: 0.1108 - acc: 0.9639 - val_loss: 0.5057 - val_acc: 0.8953\n",
      "Epoch 79/100\n",
      "7048/7048 [==============================] - 8s - loss: 0.1035 - acc: 0.9659 - val_loss: 0.5251 - val_acc: 0.8936\n",
      "Epoch 80/100\n",
      "7048/7048 [==============================] - 8s - loss: 0.1263 - acc: 0.9588 - val_loss: 0.5397 - val_acc: 0.8874\n",
      "Epoch 81/100\n",
      "7048/7048 [==============================] - 8s - loss: 0.1307 - acc: 0.9574 - val_loss: 0.5103 - val_acc: 0.8934\n",
      "Epoch 82/100\n",
      "7048/7048 [==============================] - 8s - loss: 0.1142 - acc: 0.9623 - val_loss: 0.5268 - val_acc: 0.8955\n",
      "Epoch 83/100\n",
      "7048/7048 [==============================] - 8s - loss: 0.0993 - acc: 0.9673 - val_loss: 0.5334 - val_acc: 0.8959\n",
      "Epoch 84/100\n",
      "7048/7048 [==============================] - 8s - loss: 0.0882 - acc: 0.9710 - val_loss: 0.5239 - val_acc: 0.8972\n",
      "Epoch 85/100\n",
      "7048/7048 [==============================] - 8s - loss: 0.0825 - acc: 0.9728 - val_loss: 0.5354 - val_acc: 0.8977\n",
      "Epoch 86/100\n",
      "7048/7048 [==============================] - 8s - loss: 0.0803 - acc: 0.9738 - val_loss: 0.5410 - val_acc: 0.8957\n",
      "Epoch 87/100\n",
      "7048/7048 [==============================] - 8s - loss: 0.0861 - acc: 0.9718 - val_loss: 0.5470 - val_acc: 0.8954\n",
      "Epoch 88/100\n",
      "7048/7048 [==============================] - 8s - loss: 0.0889 - acc: 0.9703 - val_loss: 0.5612 - val_acc: 0.8967\n",
      "Epoch 89/100\n",
      "7048/7048 [==============================] - 8s - loss: 0.1345 - acc: 0.9585 - val_loss: 0.5467 - val_acc: 0.8891\n",
      "Epoch 90/100\n",
      "7048/7048 [==============================] - 8s - loss: 0.1307 - acc: 0.9584 - val_loss: 0.5240 - val_acc: 0.8917\n",
      "Epoch 91/100\n",
      "7048/7048 [==============================] - 8s - loss: 0.1802 - acc: 0.9462 - val_loss: 0.5259 - val_acc: 0.8904\n",
      "Epoch 92/100\n",
      "7048/7048 [==============================] - 8s - loss: 0.1227 - acc: 0.9611 - val_loss: 0.5098 - val_acc: 0.8953\n",
      "Epoch 93/100\n",
      "7048/7048 [==============================] - 8s - loss: 0.0879 - acc: 0.9717 - val_loss: 0.5264 - val_acc: 0.8932\n",
      "Epoch 94/100\n",
      "7048/7048 [==============================] - 8s - loss: 0.0758 - acc: 0.9756 - val_loss: 0.5369 - val_acc: 0.8999\n",
      "Epoch 95/100\n",
      "7048/7048 [==============================] - 8s - loss: 0.0651 - acc: 0.9791 - val_loss: 0.5359 - val_acc: 0.9005\n",
      "Epoch 96/100\n",
      "7048/7048 [==============================] - 8s - loss: 0.0730 - acc: 0.9763 - val_loss: 0.5568 - val_acc: 0.8954\n",
      "Epoch 97/100\n",
      "7048/7048 [==============================] - 8s - loss: 0.0741 - acc: 0.9759 - val_loss: 0.5563 - val_acc: 0.8979\n",
      "Epoch 98/100\n",
      "7048/7048 [==============================] - 8s - loss: 0.0750 - acc: 0.9762 - val_loss: 0.5564 - val_acc: 0.8983\n",
      "Epoch 99/100\n",
      "7048/7048 [==============================] - 8s - loss: 0.0773 - acc: 0.9751 - val_loss: 0.5549 - val_acc: 0.8980\n",
      "Epoch 100/100\n",
      "7048/7048 [==============================] - 8s - loss: 0.0700 - acc: 0.9773 - val_loss: 0.5530 - val_acc: 0.9012\n"
     ]
    }
   ],
   "source": [
    "## Params\n",
    "\n",
    "BATCH_SIZE=64\n",
    "MAX_EPOCHS=150\n",
    "\n",
    "hist = model.fit(\n",
    "    X_train, y_train,\n",
    "    validation_data=(X_val, y_val),\n",
    "    batch_size=BATCH_SIZE,\n",
    "    epochs=MAX_EPOCHS,\n",
    "    verbose=1\n",
    ")"
   ]
  },
  {
   "cell_type": "code",
   "execution_count": 55,
   "metadata": {},
   "outputs": [
    {
     "data": {
      "image/png": "[encoded data removed]",
      "text/plain": [
       "<matplotlib.figure.Figure at 0x7fdf77d75898>"
      ]
     },
     "metadata": {},
     "output_type": "display_data"
    }
   ],
   "source": [
    "# Visualize history\n",
    "import matplotlib.pyplot as plt\n",
    "\n",
    "fig, loss_ax = plt.subplots()\n",
    "\n",
    "acc_ax = loss_ax.twinx()\n",
    "\n",
    "loss_ax.plot(hist.history['loss'] + hist2.history['loss'], 'y', label='train loss')\n",
    "loss_ax.plot(hist.history['val_loss'] + hist2.history['val_loss'], 'g', label='val loss')\n",
    "acc_ax.plot(hist.history['acc'] + hist2.history['acc'], 'b', label='train acc')\n",
    "acc_ax.plot(hist.history['val_acc'] + hist2.history['val_acc'], 'r', label='val acc')\n",
    "\n",
    "loss_ax.set_xlabel('epoch')\n",
    "loss_ax.set_ylabel('loss')\n",
    "acc_ax.set_ylabel('accuracy')\n",
    "\n",
    "loss_ax.legend(loc='upper left')\n",
    "acc_ax.legend(loc='lower left')\n",
    "\n",
    "plt.show()"
   ]
  },
  {
   "cell_type": "code",
   "execution_count": 59,
   "metadata": {},
   "outputs": [
    {
     "data": {
      "image/png": "[encoded data removed]",
      "text/plain": [
       "<matplotlib.figure.Figure at 0x7fdf77cb3390>"
      ]
     },
     "metadata": {},
     "output_type": "display_data"
    }
   ],
   "source": [
    "# Visualize history\n",
    "import matplotlib.pyplot as plt\n",
    "\n",
    "fig, loss_ax = plt.subplots()\n",
    "\n",
    "acc_ax = loss_ax.twinx()\n",
    "\n",
    "loss_ax.plot(data['loss'], 'y', label='train loss')\n",
    "loss_ax.plot(data['val_loss'], 'g', label='val loss')\n",
    "acc_ax.plot(data['acc'], 'b', label='train acc')\n",
    "acc_ax.plot(data['val_acc'], 'r', label='val acc')\n",
    "\n",
    "loss_ax.set_xlabel('epoch')\n",
    "loss_ax.set_ylabel('loss')\n",
    "acc_ax.set_ylabel('accuracy')\n",
    "\n",
    "loss_ax.legend(loc='upper left')\n",
    "acc_ax.legend(loc='lower left')\n",
    "\n",
    "plt.show()"
   ]
  },
  {
   "cell_type": "code",
   "execution_count": 1,
   "metadata": {},
   "outputs": [
    {
     "name": "stderr",
     "output_type": "stream",
     "text": [
      "Using TensorFlow backend.\n"
     ]
    },
    {
     "ename": "NameError",
     "evalue": "name 'model' is not defined",
     "output_type": "error",
     "traceback": [
      "\u001b[0;31m---------------------------------------------------------------------------\u001b[0m",
      "\u001b[0;31mNameError\u001b[0m                                 Traceback (most recent call last)",
      "\u001b[0;32m<ipython-input-1-1b561f1fdad9>\u001b[0m in \u001b[0;36m<module>\u001b[0;34m()\u001b[0m\n\u001b[1;32m      5\u001b[0m \u001b[0mMAX_EPOCHS\u001b[0m\u001b[0;34m=\u001b[0m\u001b[0;36m150\u001b[0m\u001b[0;34m\u001b[0m\u001b[0m\n\u001b[1;32m      6\u001b[0m \u001b[0;34m\u001b[0m\u001b[0m\n\u001b[0;32m----> 7\u001b[0;31m hist = model.fit(\n\u001b[0m\u001b[1;32m      8\u001b[0m     \u001b[0mX_train\u001b[0m\u001b[0;34m,\u001b[0m \u001b[0my_train\u001b[0m\u001b[0;34m,\u001b[0m\u001b[0;34m\u001b[0m\u001b[0m\n\u001b[1;32m      9\u001b[0m     \u001b[0mvalidation_data\u001b[0m\u001b[0;34m=\u001b[0m\u001b[0;34m(\u001b[0m\u001b[0mX_val\u001b[0m\u001b[0;34m,\u001b[0m \u001b[0my_val\u001b[0m\u001b[0;34m)\u001b[0m\u001b[0;34m,\u001b[0m\u001b[0;34m\u001b[0m\u001b[0m\n",
      "\u001b[0;31mNameError\u001b[0m: name 'model' is not defined"
     ]
    }
   ],
   "source": [
    "## Params\n",
    "from keras_tqdm import TQDMNotebookCallback\n",
    "\n",
    "BATCH_SIZE=64\n",
    "MAX_EPOCHS=150\n",
    "\n",
    "hist = model.fit(\n",
    "    X_train, y_train,\n",
    "    validation_data=(X_val, y_val),\n",
    "    batch_size=BATCH_SIZE,\n",
    "    epochs=MAX_EPOCHS,\n",
    "    verbose=1,\n",
    "    callbacks=[TQDMNotebookCallback()]\n",
    ")"
   ]
  },
  {
   "cell_type": "code",
   "execution_count": null,
   "metadata": {},
   "outputs": [],
   "source": []
  }
 ],
 "metadata": {
  "kernelspec": {
   "display_name": "Python 3",
   "language": "python",
   "name": "python3"
  },
  "language_info": {
   "codemirror_mode": {
    "name": "ipython",
    "version": 3
   },
   "file_extension": ".py",
   "mimetype": "text/x-python",
   "name": "python",
   "nbconvert_exporter": "python",
   "pygments_lexer": "ipython3",
   "version": "3.5.2"
  }
 },
 "nbformat": 4,
 "nbformat_minor": 2
}
